{
 "cells": [
  {
   "cell_type": "code",
   "execution_count": 2,
   "id": "8740f64c",
   "metadata": {},
   "outputs": [
    {
     "name": "stdout",
     "output_type": "stream",
     "text": [
      "bir sayı girin:5\n",
      "bir sayı girin:9\n",
      "toplamı 14\n"
     ]
    }
   ],
   "source": [
    "#algoritma soruları 1\n",
    "sayi1= int(input(\"bir sayı girin:\"))\n",
    "sayi2= int(input(\"bir sayı girin:\"))\n",
    "toplam=sayi1+sayi2\n",
    "print(\"toplamı\", toplam)"
   ]
  },
  {
   "cell_type": "code",
   "execution_count": 8,
   "id": "4d21d7c3",
   "metadata": {},
   "outputs": [
    {
     "name": "stdout",
     "output_type": "stream",
     "text": [
      "bir sayı giriniz5\n",
      "pozitif\n"
     ]
    }
   ],
   "source": [
    "#algoritma soruları 2\n",
    "sayi=int(input(\"bir sayı giriniz\"))\n",
    "if sayi >0:\n",
    "    print(\"pozitif\")\n",
    "elif sayi<0:\n",
    "    print(\"negatif\")\n",
    "else:\n",
    "    print(\"sıfır\")"
   ]
  },
  {
   "cell_type": "code",
   "execution_count": 10,
   "id": "07726542",
   "metadata": {},
   "outputs": [
    {
     "name": "stdout",
     "output_type": "stream",
     "text": [
      "bir sayı girin9\n",
      "bir sayı girin2\n",
      "bir sayı girin7\n",
      "En büyük sayı: 9\n"
     ]
    }
   ],
   "source": [
    "#algoritma soruları 3\n",
    "sayi1=int(input(\"bir sayı girin: \"))\n",
    "sayi2=int(input(\"bir sayı girin: \"))\n",
    "sayi3=int(input(\"bir sayı girin: \"))\n",
    "if sayi1>sayi2 and sayi1>sayi3:\n",
    "    en_buyuk_sayi=sayi1\n",
    "elif sayi2>sayi1 and sayi2>sayi3:\n",
    "    en_buyuk_sayi=sayi2\n",
    "else:\n",
    "    en_buyuk_sayi = sayi3\n",
    "print(\"En büyük sayı:\", en_buyuk_sayi)"
   ]
  },
  {
   "cell_type": "code",
   "execution_count": 15,
   "id": "7ece5fd4",
   "metadata": {},
   "outputs": [
    {
     "name": "stdout",
     "output_type": "stream",
     "text": [
      "bir sayı giriniz: 8\n",
      "çift sayı\n"
     ]
    }
   ],
   "source": [
    "#algoritma soruları 4\n",
    "sayi=int(input(\"bir sayı giriniz: \"))\n",
    "if sayi%2==0:\n",
    "    print(\"çift sayı\")\n",
    "else:\n",
    "    print(\"tek sayı\")"
   ]
  },
  {
   "cell_type": "code",
   "execution_count": null,
   "id": "a4a96ae0",
   "metadata": {},
   "outputs": [],
   "source": [
    "#algoritma soruları 5\n",
    "sayi=int(input(\"bir sayı girin: \"))\n",
    "\n",
    "match sayi:\n",
    "    case 1:\n",
    "        print(\"Pazartesi\")\n",
    "    case 2:\n",
    "        print(\"Salı\")\n",
    "    case 3:\n",
    "        print(\"Çarşamba\")\n",
    "    case 4:\n",
    "        print(\"Perşembe\")\n",
    "    case 5:\n",
    "        print(\"Cuma\")\n",
    "    case 6:\n",
    "        print(\"Cumartesi\")\n",
    "    case 7:\n",
    "        print(\"Pazar\")\n",
    "    case _:\n",
    "        print(\"Geçersiz gün\")"
   ]
  },
  {
   "cell_type": "code",
   "execution_count": null,
   "id": "eb351532",
   "metadata": {},
   "outputs": [],
   "source": [
    "#algoritma soruları 6\n",
    "sayi1=int(input(\"sayı girin: \"))\n",
    "sayi2=int(input(\"sayı girin: \"))\n",
    "islem=input(\"Yapmak istediğiniz işlemi girin (+, -, *, /): \")\n",
    "\n",
    "match (islem, sayi2):\n",
    "    case (\"+\", _):\n",
    "        print(\"Sonuç: {sayi1 + sayi2}\")\n",
    "    case (\"-\", _):\n",
    "        print(\"Sonuç: {sayi1 - sayi2}\")\n",
    "    case (\"*\", _):\n",
    "        print(\"Sonuç: {sayi1 * sayi2}\")\n",
    "    case (\"/\", _):\n",
    "        print(\"Sonuç: {sayi1 / sayi2}\")\n",
    "    case _:\n",
    "        print(\"Geçersiz işlem!\")"
   ]
  },
  {
   "cell_type": "code",
   "execution_count": 25,
   "id": "6d34461d",
   "metadata": {},
   "outputs": [
    {
     "name": "stdout",
     "output_type": "stream",
     "text": [
      "Bir sayı girin: 8\n",
      "sayıların toplamı 36\n"
     ]
    }
   ],
   "source": [
    "#algoritma soruları 7\n",
    "sayi=int(input(\"Bir sayı girin: \"))\n",
    "toplam = 0\n",
    "for i in range(1, sayi + 1):\n",
    "    toplam += i\n",
    "print(\"sayıların toplamı\", toplam)"
   ]
  },
  {
   "cell_type": "code",
   "execution_count": 27,
   "id": "ddf915e0",
   "metadata": {},
   "outputs": [
    {
     "name": "stdout",
     "output_type": "stream",
     "text": [
      "bir sayı girin: 3\n",
      "3\n",
      "6\n",
      "9\n",
      "12\n",
      "15\n",
      "18\n",
      "21\n",
      "24\n",
      "27\n",
      "30\n"
     ]
    }
   ],
   "source": [
    "#algoritma soruları 8\n",
    "sayi=int(input(\"bir sayı girin: \"))\n",
    "for i in range(1,11):\n",
    "    print(sayi*i)"
   ]
  },
  {
   "cell_type": "code",
   "execution_count": 33,
   "id": "4be29712",
   "metadata": {},
   "outputs": [
    {
     "name": "stdout",
     "output_type": "stream",
     "text": [
      "bir sayı girin: 5\n",
      "bir sayı girin: 5\n",
      "bir sayı girin: 5\n",
      "bir sayı girin: 5\n",
      "bir sayı girin: 5\n",
      "5.0\n"
     ]
    }
   ],
   "source": [
    "#algoritma soruları 9\n",
    "sayi1=int(input(\"bir sayı girin: \"))\n",
    "sayi2=int(input(\"bir sayı girin: \"))\n",
    "sayi3=int(input(\"bir sayı girin: \"))\n",
    "sayi4=int(input(\"bir sayı girin: \"))\n",
    "sayi5=int(input(\"bir sayı girin: \"))\n",
    "sayilar = [sayi1, sayi2, sayi3, sayi4, sayi5]\n",
    "toplam=0\n",
    "for sayi in sayilar:\n",
    "    toplam+=sayi\n",
    "ortalama=toplam/5\n",
    "print(ortalama)"
   ]
  },
  {
   "cell_type": "code",
   "execution_count": 35,
   "id": "03e038e1",
   "metadata": {},
   "outputs": [
    {
     "name": "stdout",
     "output_type": "stream",
     "text": [
      "bir sayı girin: 5\n",
      "120\n"
     ]
    }
   ],
   "source": [
    "#algoritma soruları 11\n",
    "sayi=int(input(\"bir sayı girin: \"))\n",
    "faktoriyel=1\n",
    "i = 1\n",
    "while i <= sayi:\n",
    "    faktoriyel*=i\n",
    "    i+=1\n",
    "print(faktoriyel)"
   ]
  },
  {
   "cell_type": "code",
   "execution_count": null,
   "id": "92ffc455",
   "metadata": {},
   "outputs": [],
   "source": [
    "algoritma soruları 12\n",
    "sayim=55\n",
    "sayi_araligi=[1,100]\n",
    "while sayim==tahmin\n",
    "    tahmin=int(input(\"bir sayı tahmin edin: \"))\n",
    "        print(\"yanlış sayı\")\n",
    "if tahmin==sayim:\n",
    "        print(\"sayı doğru\")"
   ]
  },
  {
   "cell_type": "code",
   "execution_count": null,
   "id": "c3a46404",
   "metadata": {},
   "outputs": [],
   "source": [
    "#algoritma soruları 13\n",
    "n = int(input(\"terim sayısı girin: \"))\n",
    "a,b = 0,1\n",
    "\n",
    "for _ in range(n):\n",
    "    print(a)"
   ]
  },
  {
   "cell_type": "code",
   "execution_count": 37,
   "id": "dbc65131",
   "metadata": {},
   "outputs": [
    {
     "name": "stdout",
     "output_type": "stream",
     "text": [
      "bir sayı girin: 1554\n",
      "sayının tersi 4551\n"
     ]
    }
   ],
   "source": [
    "sayi=input(\"bir sayı girin: \")\n",
    "ters_sayi= sayi[::-1]\n",
    "print(\"sayının tersi\",ters_sayi)"
   ]
  },
  {
   "cell_type": "code",
   "execution_count": 38,
   "id": "85379e0f",
   "metadata": {},
   "outputs": [
    {
     "name": "stdout",
     "output_type": "stream",
     "text": [
      "çift sayı toplamı: 2575\n"
     ]
    }
   ],
   "source": [
    "for sayi in range(1, 101):\n",
    "    if sayi % 2 == 0:\n",
    "        toplam += sayi\n",
    "print(\"çift sayı toplamı:\", toplam)"
   ]
  },
  {
   "cell_type": "code",
   "execution_count": 45,
   "id": "923dd2fe",
   "metadata": {},
   "outputs": [
    {
     "ename": "NameError",
     "evalue": "name 'çarpım' is not defined",
     "output_type": "error",
     "traceback": [
      "\u001b[1;31m---------------------------------------------------------------------------\u001b[0m",
      "\u001b[1;31mNameError\u001b[0m                                 Traceback (most recent call last)",
      "Input \u001b[1;32mIn [45]\u001b[0m, in \u001b[0;36m<cell line: 1>\u001b[1;34m()\u001b[0m\n\u001b[0;32m      1\u001b[0m \u001b[38;5;28;01mfor\u001b[39;00m sayi \u001b[38;5;129;01min\u001b[39;00m \u001b[38;5;28mrange\u001b[39m(\u001b[38;5;241m1\u001b[39m, \u001b[38;5;241m11\u001b[39m):\n\u001b[0;32m      2\u001b[0m     \u001b[38;5;28;01mif\u001b[39;00m sayi \u001b[38;5;241m%\u001b[39m \u001b[38;5;241m2\u001b[39m \u001b[38;5;241m==\u001b[39m \u001b[38;5;241m1\u001b[39m:\n\u001b[1;32m----> 3\u001b[0m         çarpım \u001b[38;5;241m*\u001b[39m\u001b[38;5;241m=\u001b[39m sayi\n\u001b[0;32m      4\u001b[0m \u001b[38;5;28mprint\u001b[39m(çarpım)\n",
      "\u001b[1;31mNameError\u001b[0m: name 'çarpım' is not defined"
     ]
    }
   ],
   "source": [
    "for sayi in range(1, 11):\n",
    "    if sayi % 2 == 1:\n",
    "        çarpım *= sayi\n",
    "print(çarpım)"
   ]
  },
  {
   "cell_type": "code",
   "execution_count": 46,
   "id": "5e46c66b",
   "metadata": {},
   "outputs": [
    {
     "name": "stdout",
     "output_type": "stream",
     "text": [
      "1\n",
      "4\n",
      "9\n",
      "16\n",
      "25\n",
      "36\n",
      "49\n",
      "64\n",
      "81\n",
      "100\n"
     ]
    }
   ],
   "source": [
    "for sayi in range(1, 11):\n",
    "    print(sayi ** 2)"
   ]
  },
  {
   "cell_type": "code",
   "execution_count": 47,
   "id": "acc10f21",
   "metadata": {},
   "outputs": [
    {
     "name": "stdout",
     "output_type": "stream",
     "text": [
      "şifre girin: python123\n",
      "giriş başarılı\n"
     ]
    }
   ],
   "source": [
    "sifre = input(\"şifre girin: \")\n",
    "if sifre == \"python123\":\n",
    "    print(\"giriş başarılı\")\n",
    "else:\n",
    "    print(\"giriş başarısız\")"
   ]
  },
  {
   "cell_type": "code",
   "execution_count": 49,
   "id": "eb7a45b2",
   "metadata": {},
   "outputs": [
    {
     "name": "stdout",
     "output_type": "stream",
     "text": [
      "yaşınızı girin: 18\n",
      "reşit\n"
     ]
    }
   ],
   "source": [
    "yas = int(input(\"yaşınızı girin: \"))\n",
    "if yas >= 18:\n",
    "    print(\"reşit\")\n",
    "else:\n",
    "    print(\"reşit değil\")"
   ]
  },
  {
   "cell_type": "code",
   "execution_count": 50,
   "id": "28f4caaa",
   "metadata": {},
   "outputs": [
    {
     "name": "stdout",
     "output_type": "stream",
     "text": [
      "1. ders notunu girin: 12\n",
      "2. ders notunu girin: 85\n",
      "3. ders notunu girin: 41\n",
      "kaldı\n"
     ]
    }
   ],
   "source": [
    "not1 = float(input(\"1. ders notunu girin: \"))\n",
    "not2 = float(input(\"2. ders notunu girin: \"))\n",
    "not3 = float(input(\"3. ders notunu girin: \"))\n",
    "ortalama = (not1 + not2 + not3) / 3\n",
    "\n",
    "if ortalama > 50:\n",
    "    print(\"geçti\")\n",
    "else:\n",
    "    print(\"kaldı\")"
   ]
  },
  {
   "cell_type": "code",
   "execution_count": 51,
   "id": "5c04eb22",
   "metadata": {},
   "outputs": [
    {
     "name": "stdout",
     "output_type": "stream",
     "text": [
      "boyunuzu girin: 163\n",
      "kilonuzu girin: 48\n",
      "normal\n"
     ]
    }
   ],
   "source": [
    "boy = float(input(\"boyunuzu girin: \"))\n",
    "kilo = float(input(\"kilonuzu girin: \"))\n",
    "vki = kilo / (boy ** 2)\n",
    "\n",
    "if vki > 25:\n",
    "    print(\"fazla kilolu\")\n",
    "else:\n",
    "    print(\"normal\")"
   ]
  },
  {
   "cell_type": "code",
   "execution_count": 52,
   "id": "6a4176ee",
   "metadata": {},
   "outputs": [
    {
     "ename": "SyntaxError",
     "evalue": "invalid syntax (3506152187.py, line 5)",
     "output_type": "error",
     "traceback": [
      "\u001b[1;36m  Input \u001b[1;32mIn [52]\u001b[1;36m\u001b[0m\n\u001b[1;33m    match islem:\u001b[0m\n\u001b[1;37m          ^\u001b[0m\n\u001b[1;31mSyntaxError\u001b[0m\u001b[1;31m:\u001b[0m invalid syntax\n"
     ]
    }
   ],
   "source": [
    "sayi1 = float(input(\"sayı girin: \"))\n",
    "sayi2 = float(input(\"sayı girin: \"))\n",
    "islem = input(\"Yapmak istediğiniz işlemi (+, -, *, /) girin: \")\n",
    "\n",
    "match islem:\n",
    "    case \"+\":\n",
    "        print(\"Sonuç:\", sayi1 + sayi2)\n",
    "    case \"-\":\n",
    "        print(\"Sonuç:\", sayi1 - sayi2)\n",
    "    case \"*\":\n",
    "        print(\"Sonuç:\", sayi1 * sayi2)\n",
    "    case \"/\":\n",
    "            print(\"Sonuç:\", sayi1 / sayi2)\n",
    "    case _:\n",
    "        print(\"Geçersiz işlem\")"
   ]
  },
  {
   "cell_type": "code",
   "execution_count": null,
   "id": "305c6180",
   "metadata": {},
   "outputs": [],
   "source": [
    "sayi1 = int(input(\"bir sayı girin: \"))\n",
    "sayi2 = int(input(\"bir sayı girin: \"))\n",
    "sayi3 = int(input(\"bir sayı girin: \"))\n",
    "sayi4 = int(input(\"bir sayı girin: \"))\n",
    "\n",
    "if sayi1< sayi2 and sayi3 and sayi4:\n",
    "    print(\"en küçük sayı 1.sayı\")\n",
    "elif sayi2< sayi1 and sayi3 and sayi4:\n",
    "    print(\"en küçük sayı 2.sayı\")\n",
    "elif sayi3< sayi1 and sayi2 and sayi4:\n",
    "    print(\"en küçük sayi 3.sayı\")\n",
    "else:\n",
    "    print(\"en küçük sayı 4.sayı\")"
   ]
  },
  {
   "cell_type": "code",
   "execution_count": 1,
   "id": "9d849c38",
   "metadata": {},
   "outputs": [
    {
     "name": "stdout",
     "output_type": "stream",
     "text": [
      "bir N sayısı girin: 7\n",
      "28\n"
     ]
    }
   ],
   "source": [
    "n = int(input(\"bir N sayısı girin: \"))\n",
    "toplam = 0\n",
    "i = 1\n",
    "while i <= n:\n",
    "    toplam += i\n",
    "    i += 1\n",
    "print(toplam)"
   ]
  },
  {
   "cell_type": "code",
   "execution_count": 3,
   "id": "e72b8746",
   "metadata": {},
   "outputs": [
    {
     "name": "stdout",
     "output_type": "stream",
     "text": [
      "sayıların çarpımı: 120\n"
     ]
    }
   ],
   "source": [
    "carpim = 1\n",
    "for sayi in range(1, 6):\n",
    "    carpim *= sayi\n",
    "print(\"sayıların çarpımı:\", carpim)"
   ]
  },
  {
   "cell_type": "code",
   "execution_count": 4,
   "id": "22536769",
   "metadata": {},
   "outputs": [
    {
     "name": "stdout",
     "output_type": "stream",
     "text": [
      "karelerin toplamı: 385\n"
     ]
    }
   ],
   "source": [
    "toplam = 0\n",
    "for sayi in range(1, 11):\n",
    "    toplam += sayi ** 2\n",
    "print(\"karelerin toplamı:\", toplam)"
   ]
  },
  {
   "cell_type": "code",
   "execution_count": 5,
   "id": "3e48566a",
   "metadata": {},
   "outputs": [
    {
     "name": "stdout",
     "output_type": "stream",
     "text": [
      "bir N sayısı girin: 4\n",
      "100\n"
     ]
    }
   ],
   "source": [
    "n = int(input(\"bir N sayısı girin: \"))\n",
    "toplam = 0\n",
    "for sayi in range(1, n + 1):\n",
    "    toplam += sayi ** 3\n",
    "print(toplam)"
   ]
  },
  {
   "cell_type": "code",
   "execution_count": 10,
   "id": "1396539f",
   "metadata": {},
   "outputs": [
    {
     "name": "stdout",
     "output_type": "stream",
     "text": [
      "15\n",
      "30\n",
      "45\n",
      "60\n",
      "75\n",
      "90\n"
     ]
    }
   ],
   "source": [
    "for sayi in range(1, 101):\n",
    "    if sayi % 3 == 0 and sayi % 5 == 0:\n",
    "        print(sayi)"
   ]
  },
  {
   "cell_type": "code",
   "execution_count": 12,
   "id": "e156382d",
   "metadata": {},
   "outputs": [
    {
     "name": "stdout",
     "output_type": "stream",
     "text": [
      "sınav notunu girin (0-100): 45\n",
      "F\n"
     ]
    }
   ],
   "source": [
    "sınav=int(input(\"sınav notunu girin (0-100): \"))\n",
    "\n",
    "if 90 <= sınav <= 100:\n",
    "    print(\"A\")\n",
    "elif 80 <= sınav < 90:\n",
    "    print(\"B\")\n",
    "elif 70 <= sınav < 80:\n",
    "    print(\"C\")\n",
    "elif 60 <= sınav < 70:\n",
    "    print(\"D\")\n",
    "elif 0 <= sınav < 60:\n",
    "    print(\"F\")\n",
    "else:\n",
    "    print(\"Geçersiz not\")"
   ]
  },
  {
   "cell_type": "code",
   "execution_count": 13,
   "id": "8e45b037",
   "metadata": {},
   "outputs": [
    {
     "name": "stdout",
     "output_type": "stream",
     "text": [
      "bir sayı girin: 7\n",
      "bir sayı girin: 7\n",
      "bir sayı girin: 9\n",
      "iki sayı eşit\n"
     ]
    }
   ],
   "source": [
    "sayi1 = int(input(\"bir sayı girin: \"))\n",
    "sayi2 = int(input(\"bir sayı girin: \"))\n",
    "sayi3 = int(input(\"bir sayı girin: \"))\n",
    "\n",
    "if sayi1 == sayi2 == sayi3:\n",
    "    print(\"tüm sayılar eşit\")\n",
    "elif sayi1 == sayi2 or sayi1 == sayi3 or sayi2 == sayi3:\n",
    "    print(\"iki sayı eşit\")\n",
    "else:\n",
    "    print(\"hiçbiri eşit değil\")"
   ]
  },
  {
   "cell_type": "code",
   "execution_count": 15,
   "id": "53176536",
   "metadata": {},
   "outputs": [
    {
     "name": "stdout",
     "output_type": "stream",
     "text": [
      "kilonuzu (kg) girin: 50\n",
      "boyunuzu (metre) girin: 163\n",
      "zayıf\n"
     ]
    }
   ],
   "source": [
    "kilo = float(input(\"kilonuzu (kg) girin: \"))\n",
    "boy = float(input(\"boyunuzu (metre) girin: \"))\n",
    "vki = kilo / (boy ** 2)\n",
    "\n",
    "if vki < 18.5:\n",
    "    print(\"zayıf\")\n",
    "elif 18.5 <= vki < 25:\n",
    "    print(\"normal\")\n",
    "elif 25 <= vki < 30:\n",
    "    print(\"fazla kilolu\")\n",
    "else:\n",
    "    print(\"obez\")"
   ]
  },
  {
   "cell_type": "code",
   "execution_count": 16,
   "id": "4fe86da3",
   "metadata": {},
   "outputs": [
    {
     "name": "stdout",
     "output_type": "stream",
     "text": [
      "birinci kenarı girin: 6\n",
      "ikinci kenarı girin: 6\n",
      "üçüncü kenarı girin: 4\n",
      "ikizkenar üçgen\n"
     ]
    }
   ],
   "source": [
    "a = int(input(\"birinci kenarı girin: \"))\n",
    "b = int(input(\"ikinci kenarı girin: \"))\n",
    "c = int(input(\"üçüncü kenarı girin: \"))\n",
    "\n",
    "if a + b > c and a + c > b and b + c > a:\n",
    "    if a == b == c:\n",
    "        print(\"eşkenar üçgen\")\n",
    "    elif a == b or a == c or b == c:\n",
    "        print(\"ikizkenar üçgen\")\n",
    "    else:\n",
    "        print(\"çeşitkenar üçgen\")\n",
    "else:\n",
    "    print(\"üçgen değil\")"
   ]
  },
  {
   "cell_type": "code",
   "execution_count": 18,
   "id": "771eb3ba",
   "metadata": {},
   "outputs": [
    {
     "name": "stdout",
     "output_type": "stream",
     "text": [
      "yaşınızı girin: 23\n",
      "bilet ücreti: 20 TL\n"
     ]
    }
   ],
   "source": [
    "yas = int(input(\"yaşınızı girin: \"))\n",
    "\n",
    "if yas <= 5:\n",
    "    print(\"bilet ücreti: Ücretsiz\")\n",
    "elif 6 <= yas <= 18:\n",
    "    print(\"bilet ücreti: 10 TL\")\n",
    "elif 19 <= yas <= 64:\n",
    "    print(\"bilet ücreti: 20 TL\")\n",
    "else:\n",
    "    print(\"bilet ücreti: 15 TL\")"
   ]
  },
  {
   "cell_type": "code",
   "execution_count": 19,
   "id": "9585b004",
   "metadata": {},
   "outputs": [
    {
     "name": "stdout",
     "output_type": "stream",
     "text": [
      "hava durumunu girin (güneşli, yağmurlu, karlı): karlı\n",
      "Sıcaklığı girin: -5\n",
      "kayak yapmaya gidebilirsiniz.\n"
     ]
    }
   ],
   "source": [
    "hava = input(\"hava durumunu girin (güneşli, yağmurlu, karlı): \")\n",
    "sicaklik = int(input(\"Sıcaklığı girin: \"))\n",
    "\n",
    "if hava == \"güneşli\" and sicaklik >= 25:\n",
    "    print(\"piknik yapabilirsiniz.\")\n",
    "elif hava == \"yağmurlu\":\n",
    "    print(\"şemsiye almayı unutmayın.\")\n",
    "elif hava == \"karlı\" and sicaklik < 0:\n",
    "    print(\"kayak yapmaya gidebilirsiniz.\")\n",
    "else:\n",
    "    print(\"evde kalabilirsiniz.\")"
   ]
  },
  {
   "cell_type": "code",
   "execution_count": 20,
   "id": "bda001d9",
   "metadata": {},
   "outputs": [
    {
     "name": "stdout",
     "output_type": "stream",
     "text": [
      "bir sayı girin: 0\n",
      "sıfır\n"
     ]
    }
   ],
   "source": [
    "sayi = int(input(\"bir sayı girin: \"))\n",
    "\n",
    "if sayi > 0:\n",
    "    print(\"pozitif\")\n",
    "elif sayi < 0:\n",
    "    print(\"negatif\")\n",
    "else:\n",
    "    print(\"sıfır\")"
   ]
  },
  {
   "cell_type": "code",
   "execution_count": 21,
   "id": "b1db455a",
   "metadata": {},
   "outputs": [
    {
     "name": "stdout",
     "output_type": "stream",
     "text": [
      "birinci sayıyı girin: 4\n",
      "ikinci sayıyı girin: 9\n",
      "ikinci sayı büyük\n"
     ]
    }
   ],
   "source": [
    "sayi1 = int(input(\"birinci sayıyı girin: \"))\n",
    "sayi2 = int(input(\"ikinci sayıyı girin: \"))\n",
    "\n",
    "if sayi1 > sayi2:\n",
    "    print(\"birinci sayı büyük\")\n",
    "elif sayi2 > sayi1:\n",
    "    print(\"ikinci sayı büyük\")\n",
    "else:\n",
    "    print(\"sayılar eşit\")"
   ]
  },
  {
   "cell_type": "code",
   "execution_count": null,
   "id": "e1eebf5b",
   "metadata": {},
   "outputs": [],
   "source": []
  }
 ],
 "metadata": {
  "kernelspec": {
   "display_name": "Python 3 (ipykernel)",
   "language": "python",
   "name": "python3"
  },
  "language_info": {
   "codemirror_mode": {
    "name": "ipython",
    "version": 3
   },
   "file_extension": ".py",
   "mimetype": "text/x-python",
   "name": "python",
   "nbconvert_exporter": "python",
   "pygments_lexer": "ipython3",
   "version": "3.9.12"
  }
 },
 "nbformat": 4,
 "nbformat_minor": 5
}
